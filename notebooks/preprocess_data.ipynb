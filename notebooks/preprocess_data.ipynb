{
 "cells": [
  {
   "cell_type": "markdown",
   "id": "5d59c7d1-adba-4b38-b315-39b80554ffad",
   "metadata": {},
   "source": [
    "# EDA и подготовка данных"
   ]
  },
  {
   "cell_type": "markdown",
   "id": "92ca0da6-d72c-45bd-84a4-be68666dbd92",
   "metadata": {},
   "source": [
    "Импортируем библиотеки"
   ]
  },
  {
   "cell_type": "code",
   "execution_count": 122,
   "id": "a4c2ba8b-e4b8-49fb-897b-a37abf40ee88",
   "metadata": {},
   "outputs": [],
   "source": [
    "import os\n",
    "import zipfile\n",
    "import pandas as pd\n",
    "import numpy as np\n",
    "import seaborn as sns\n",
    "import matplotlib.pyplot as plt\n",
    "import re\n",
    "import random"
   ]
  },
  {
   "cell_type": "markdown",
   "id": "d4009d87-400c-43d7-bd5b-9d9992396d0a",
   "metadata": {},
   "source": [
    "## Загрузка и обзор данных\n",
    "\n",
    "Дл этого распакуем архив с загруженными данными"
   ]
  },
  {
   "cell_type": "code",
   "execution_count": 123,
   "id": "d41a5ed5-fd4b-4cd0-b21a-73d176a0c7d5",
   "metadata": {},
   "outputs": [],
   "source": [
    "DATA_DIR = \"../data\""
   ]
  },
  {
   "cell_type": "code",
   "execution_count": 124,
   "id": "57e035ac-c8ab-4713-8c38-a9a33abfc34b",
   "metadata": {},
   "outputs": [],
   "source": [
    "ZIP_PATH = os.path.join(DATA_DIR, \"data.zip\")\n",
    "\n",
    "with zipfile.ZipFile(ZIP_PATH, \"r\") as zip_ref:\n",
    "    zip_ref.extractall(DATA_DIR)"
   ]
  },
  {
   "cell_type": "code",
   "execution_count": 125,
   "id": "ad669218-f20b-4190-9585-21d45ce5d18f",
   "metadata": {},
   "outputs": [],
   "source": [
    "SOURCE_PATH = os.path.join(DATA_DIR, \"training.1600000.processed.noemoticon.csv\")\n",
    "\n",
    "data = pd.read_csv(SOURCE_PATH, encoding='latin1', header=None, names=['target', 'ids', 'date', 'flag', 'user', 'text'])"
   ]
  },
  {
   "cell_type": "code",
   "execution_count": 126,
   "id": "05c5d0e6-4154-4036-936d-6ab614b9d3af",
   "metadata": {},
   "outputs": [],
   "source": [
    "# Загрузим также данные твитов на русском, они понадобятся для моделирования\n",
    "SOURCE_PATH_RU = os.path.join(DATA_DIR, \"rusentitweet_full.csv\")\n",
    "\n",
    "data_ru = pd.read_csv(SOURCE_PATH_RU, usecols=[\"text\", \"label\"])"
   ]
  },
  {
   "cell_type": "code",
   "execution_count": 127,
   "id": "674d1446-8b07-4765-b65e-400c52718611",
   "metadata": {},
   "outputs": [],
   "source": [
    "random.seed(42)"
   ]
  },
  {
   "cell_type": "code",
   "execution_count": 128,
   "id": "40cc4187-a76d-4293-aa46-b8cb11f0b6e1",
   "metadata": {},
   "outputs": [
    {
     "data": {
      "text/html": [
       "<div>\n",
       "<style scoped>\n",
       "    .dataframe tbody tr th:only-of-type {\n",
       "        vertical-align: middle;\n",
       "    }\n",
       "\n",
       "    .dataframe tbody tr th {\n",
       "        vertical-align: top;\n",
       "    }\n",
       "\n",
       "    .dataframe thead th {\n",
       "        text-align: right;\n",
       "    }\n",
       "</style>\n",
       "<table border=\"1\" class=\"dataframe\">\n",
       "  <thead>\n",
       "    <tr style=\"text-align: right;\">\n",
       "      <th></th>\n",
       "      <th>target</th>\n",
       "      <th>ids</th>\n",
       "      <th>date</th>\n",
       "      <th>flag</th>\n",
       "      <th>user</th>\n",
       "      <th>text</th>\n",
       "    </tr>\n",
       "  </thead>\n",
       "  <tbody>\n",
       "    <tr>\n",
       "      <th>713131</th>\n",
       "      <td>0</td>\n",
       "      <td>2258739868</td>\n",
       "      <td>Sat Jun 20 16:25:10 PDT 2009</td>\n",
       "      <td>NO_QUERY</td>\n",
       "      <td>fictillius</td>\n",
       "      <td>@Shaun_R I'm here with @woosang  &amp;amp; @gunzel...</td>\n",
       "    </tr>\n",
       "    <tr>\n",
       "      <th>367260</th>\n",
       "      <td>0</td>\n",
       "      <td>2049151382</td>\n",
       "      <td>Fri Jun 05 16:23:04 PDT 2009</td>\n",
       "      <td>NO_QUERY</td>\n",
       "      <td>kaicowboys39</td>\n",
       "      <td>We are going to neuter Marley. He is too agggr...</td>\n",
       "    </tr>\n",
       "    <tr>\n",
       "      <th>1059711</th>\n",
       "      <td>4</td>\n",
       "      <td>1963286387</td>\n",
       "      <td>Fri May 29 12:29:42 PDT 2009</td>\n",
       "      <td>NO_QUERY</td>\n",
       "      <td>lyciabycia</td>\n",
       "      <td>@Punjabii hahaha.!! yu are just showing out no...</td>\n",
       "    </tr>\n",
       "    <tr>\n",
       "      <th>1025682</th>\n",
       "      <td>4</td>\n",
       "      <td>1883559588</td>\n",
       "      <td>Fri May 22 08:44:42 PDT 2009</td>\n",
       "      <td>NO_QUERY</td>\n",
       "      <td>iowapsychgirl</td>\n",
       "      <td>unpacking and cleaning...open to distractions ...</td>\n",
       "    </tr>\n",
       "    <tr>\n",
       "      <th>705823</th>\n",
       "      <td>0</td>\n",
       "      <td>2256491972</td>\n",
       "      <td>Sat Jun 20 12:51:22 PDT 2009</td>\n",
       "      <td>NO_QUERY</td>\n",
       "      <td>darrell</td>\n",
       "      <td>@JeffBishop Yeah. Just a tad disappointing but...</td>\n",
       "    </tr>\n",
       "    <tr>\n",
       "      <th>327095</th>\n",
       "      <td>0</td>\n",
       "      <td>2008992218</td>\n",
       "      <td>Tue Jun 02 14:58:52 PDT 2009</td>\n",
       "      <td>NO_QUERY</td>\n",
       "      <td>Libby_Liz</td>\n",
       "      <td>@dawnprawn You know! I think they went to see ...</td>\n",
       "    </tr>\n",
       "    <tr>\n",
       "      <th>305104</th>\n",
       "      <td>0</td>\n",
       "      <td>1999910771</td>\n",
       "      <td>Mon Jun 01 21:02:53 PDT 2009</td>\n",
       "      <td>NO_QUERY</td>\n",
       "      <td>Parabolaa</td>\n",
       "      <td>Sprained my wrist at work  makes it hard to ty...</td>\n",
       "    </tr>\n",
       "    <tr>\n",
       "      <th>428655</th>\n",
       "      <td>0</td>\n",
       "      <td>2063972978</td>\n",
       "      <td>Sun Jun 07 04:46:58 PDT 2009</td>\n",
       "      <td>NO_QUERY</td>\n",
       "      <td>annaaralar</td>\n",
       "      <td>She hates me!    http://pikchur.com/az5</td>\n",
       "    </tr>\n",
       "    <tr>\n",
       "      <th>317955</th>\n",
       "      <td>0</td>\n",
       "      <td>2002718516</td>\n",
       "      <td>Tue Jun 02 04:59:17 PDT 2009</td>\n",
       "      <td>NO_QUERY</td>\n",
       "      <td>jesszlatos</td>\n",
       "      <td>@amandamandalove its not growing i want it to ...</td>\n",
       "    </tr>\n",
       "    <tr>\n",
       "      <th>1528517</th>\n",
       "      <td>4</td>\n",
       "      <td>2177389026</td>\n",
       "      <td>Mon Jun 15 06:01:13 PDT 2009</td>\n",
       "      <td>NO_QUERY</td>\n",
       "      <td>louloufrance</td>\n",
       "      <td>@spacedlawyer No, just tired today from my lon...</td>\n",
       "    </tr>\n",
       "  </tbody>\n",
       "</table>\n",
       "</div>"
      ],
      "text/plain": [
       "         target         ids                          date      flag  \\\n",
       "713131        0  2258739868  Sat Jun 20 16:25:10 PDT 2009  NO_QUERY   \n",
       "367260        0  2049151382  Fri Jun 05 16:23:04 PDT 2009  NO_QUERY   \n",
       "1059711       4  1963286387  Fri May 29 12:29:42 PDT 2009  NO_QUERY   \n",
       "1025682       4  1883559588  Fri May 22 08:44:42 PDT 2009  NO_QUERY   \n",
       "705823        0  2256491972  Sat Jun 20 12:51:22 PDT 2009  NO_QUERY   \n",
       "327095        0  2008992218  Tue Jun 02 14:58:52 PDT 2009  NO_QUERY   \n",
       "305104        0  1999910771  Mon Jun 01 21:02:53 PDT 2009  NO_QUERY   \n",
       "428655        0  2063972978  Sun Jun 07 04:46:58 PDT 2009  NO_QUERY   \n",
       "317955        0  2002718516  Tue Jun 02 04:59:17 PDT 2009  NO_QUERY   \n",
       "1528517       4  2177389026  Mon Jun 15 06:01:13 PDT 2009  NO_QUERY   \n",
       "\n",
       "                  user                                               text  \n",
       "713131      fictillius  @Shaun_R I'm here with @woosang  &amp; @gunzel...  \n",
       "367260    kaicowboys39  We are going to neuter Marley. He is too agggr...  \n",
       "1059711     lyciabycia  @Punjabii hahaha.!! yu are just showing out no...  \n",
       "1025682  iowapsychgirl  unpacking and cleaning...open to distractions ...  \n",
       "705823         darrell  @JeffBishop Yeah. Just a tad disappointing but...  \n",
       "327095       Libby_Liz  @dawnprawn You know! I think they went to see ...  \n",
       "305104       Parabolaa  Sprained my wrist at work  makes it hard to ty...  \n",
       "428655      annaaralar            She hates me!    http://pikchur.com/az5  \n",
       "317955      jesszlatos  @amandamandalove its not growing i want it to ...  \n",
       "1528517   louloufrance  @spacedlawyer No, just tired today from my lon...  "
      ]
     },
     "execution_count": 128,
     "metadata": {},
     "output_type": "execute_result"
    }
   ],
   "source": [
    "data.sample(10)"
   ]
  },
  {
   "cell_type": "code",
   "execution_count": 129,
   "id": "431b1f93-b6a9-4839-bbc6-d810cdaf5878",
   "metadata": {},
   "outputs": [
    {
     "data": {
      "text/html": [
       "<div>\n",
       "<style scoped>\n",
       "    .dataframe tbody tr th:only-of-type {\n",
       "        vertical-align: middle;\n",
       "    }\n",
       "\n",
       "    .dataframe tbody tr th {\n",
       "        vertical-align: top;\n",
       "    }\n",
       "\n",
       "    .dataframe thead th {\n",
       "        text-align: right;\n",
       "    }\n",
       "</style>\n",
       "<table border=\"1\" class=\"dataframe\">\n",
       "  <thead>\n",
       "    <tr style=\"text-align: right;\">\n",
       "      <th></th>\n",
       "      <th>target</th>\n",
       "      <th>ids</th>\n",
       "    </tr>\n",
       "  </thead>\n",
       "  <tbody>\n",
       "    <tr>\n",
       "      <th>count</th>\n",
       "      <td>1.600000e+06</td>\n",
       "      <td>1.600000e+06</td>\n",
       "    </tr>\n",
       "    <tr>\n",
       "      <th>mean</th>\n",
       "      <td>2.000000e+00</td>\n",
       "      <td>1.998818e+09</td>\n",
       "    </tr>\n",
       "    <tr>\n",
       "      <th>std</th>\n",
       "      <td>2.000001e+00</td>\n",
       "      <td>1.935761e+08</td>\n",
       "    </tr>\n",
       "    <tr>\n",
       "      <th>min</th>\n",
       "      <td>0.000000e+00</td>\n",
       "      <td>1.467810e+09</td>\n",
       "    </tr>\n",
       "    <tr>\n",
       "      <th>25%</th>\n",
       "      <td>0.000000e+00</td>\n",
       "      <td>1.956916e+09</td>\n",
       "    </tr>\n",
       "    <tr>\n",
       "      <th>50%</th>\n",
       "      <td>2.000000e+00</td>\n",
       "      <td>2.002102e+09</td>\n",
       "    </tr>\n",
       "    <tr>\n",
       "      <th>75%</th>\n",
       "      <td>4.000000e+00</td>\n",
       "      <td>2.177059e+09</td>\n",
       "    </tr>\n",
       "    <tr>\n",
       "      <th>max</th>\n",
       "      <td>4.000000e+00</td>\n",
       "      <td>2.329206e+09</td>\n",
       "    </tr>\n",
       "  </tbody>\n",
       "</table>\n",
       "</div>"
      ],
      "text/plain": [
       "             target           ids\n",
       "count  1.600000e+06  1.600000e+06\n",
       "mean   2.000000e+00  1.998818e+09\n",
       "std    2.000001e+00  1.935761e+08\n",
       "min    0.000000e+00  1.467810e+09\n",
       "25%    0.000000e+00  1.956916e+09\n",
       "50%    2.000000e+00  2.002102e+09\n",
       "75%    4.000000e+00  2.177059e+09\n",
       "max    4.000000e+00  2.329206e+09"
      ]
     },
     "execution_count": 129,
     "metadata": {},
     "output_type": "execute_result"
    }
   ],
   "source": [
    "data.describe()"
   ]
  },
  {
   "cell_type": "code",
   "execution_count": 130,
   "id": "1f8d4776-bbdb-4c9a-af22-9b44b36d9b45",
   "metadata": {},
   "outputs": [
    {
     "name": "stdout",
     "output_type": "stream",
     "text": [
      "<class 'pandas.core.frame.DataFrame'>\n",
      "RangeIndex: 1600000 entries, 0 to 1599999\n",
      "Data columns (total 6 columns):\n",
      " #   Column  Non-Null Count    Dtype \n",
      "---  ------  --------------    ----- \n",
      " 0   target  1600000 non-null  int64 \n",
      " 1   ids     1600000 non-null  int64 \n",
      " 2   date    1600000 non-null  object\n",
      " 3   flag    1600000 non-null  object\n",
      " 4   user    1600000 non-null  object\n",
      " 5   text    1600000 non-null  object\n",
      "dtypes: int64(2), object(4)\n",
      "memory usage: 73.2+ MB\n"
     ]
    }
   ],
   "source": [
    "# Проверим типы данных\n",
    "data.info()"
   ]
  },
  {
   "cell_type": "code",
   "execution_count": 131,
   "id": "fedf2d07-c616-4245-bc7f-7b1c8283f98d",
   "metadata": {},
   "outputs": [
    {
     "data": {
      "text/plain": [
       "flag\n",
       "NO_QUERY    1600000\n",
       "Name: count, dtype: int64"
      ]
     },
     "execution_count": 131,
     "metadata": {},
     "output_type": "execute_result"
    }
   ],
   "source": [
    "data['flag'].value_counts()"
   ]
  },
  {
   "cell_type": "markdown",
   "id": "f6bc709c-f753-4c52-b9f0-f6ece61e9ebf",
   "metadata": {},
   "source": [
    "Заметим, что столбец flag содержит одинаковое значение для всех строк таблицы. Его можно удалить."
   ]
  },
  {
   "cell_type": "code",
   "execution_count": 132,
   "id": "a6780c31-936f-4064-a6ff-0be676090539",
   "metadata": {},
   "outputs": [],
   "source": [
    "data.drop('flag', axis=1, inplace=True)"
   ]
  },
  {
   "cell_type": "code",
   "execution_count": 133,
   "id": "61c6070c-bd07-4faa-8285-6a4eb468cf6c",
   "metadata": {},
   "outputs": [
    {
     "data": {
      "text/plain": [
       "target\n",
       "0    800000\n",
       "4    800000\n",
       "Name: count, dtype: int64"
      ]
     },
     "execution_count": 133,
     "metadata": {},
     "output_type": "execute_result"
    }
   ],
   "source": [
    "# Баланс классов\n",
    "data['target'].value_counts()"
   ]
  },
  {
   "cell_type": "markdown",
   "id": "d46993a4-8935-4faa-874e-1c399c597dc4",
   "metadata": {},
   "source": [
    "Типы данных можно оптимизировать."
   ]
  },
  {
   "cell_type": "markdown",
   "id": "9ab2b9d3-5dbf-4bfe-860d-9f5e9b4a137b",
   "metadata": {},
   "source": [
    "В данных поровну представлены негативные и позитивные твиты. Нейтральных нет."
   ]
  },
  {
   "cell_type": "code",
   "execution_count": 134,
   "id": "c5f66410-0202-4bfb-85d6-19f09dd21c47",
   "metadata": {},
   "outputs": [
    {
     "name": "stderr",
     "output_type": "stream",
     "text": [
      "/var/folders/jg/38zlc6616vl3gdy84xc0lx4w0000gn/T/ipykernel_79489/4193969960.py:4: FutureWarning: Parsed string \"Mon Apr 06 22:19:45 PDT 2009\" included an un-recognized timezone \"PDT\". Dropping unrecognized timezones is deprecated; in a future version this will raise. Instead pass the string without the timezone, then use .tz_localize to convert to a recognized timezone.\n",
      "  data[\"date\"] = pd.to_datetime(data[\"date\"], errors='coerce')\n"
     ]
    }
   ],
   "source": [
    "data[\"target\"] = (data['target'] == 4).astype(int)\n",
    "data[\"ids\"] = data[\"ids\"].astype(str)\n",
    "data[\"user\"] = data[\"user\"].astype(str)\n",
    "data[\"date\"] = pd.to_datetime(data[\"date\"], errors='coerce')"
   ]
  },
  {
   "cell_type": "code",
   "execution_count": 135,
   "id": "bf18094f-0d9e-458e-ae90-d9af39ff99a9",
   "metadata": {},
   "outputs": [
    {
     "name": "stdout",
     "output_type": "stream",
     "text": [
      "<class 'pandas.core.frame.DataFrame'>\n",
      "RangeIndex: 1600000 entries, 0 to 1599999\n",
      "Data columns (total 5 columns):\n",
      " #   Column  Non-Null Count    Dtype         \n",
      "---  ------  --------------    -----         \n",
      " 0   target  1600000 non-null  int64         \n",
      " 1   ids     1600000 non-null  object        \n",
      " 2   date    1600000 non-null  datetime64[ns]\n",
      " 3   user    1600000 non-null  object        \n",
      " 4   text    1600000 non-null  object        \n",
      "dtypes: datetime64[ns](1), int64(1), object(3)\n",
      "memory usage: 61.0+ MB\n"
     ]
    }
   ],
   "source": [
    "data.info()"
   ]
  },
  {
   "cell_type": "code",
   "execution_count": 136,
   "id": "84c5cce5-a86a-422d-9950-27be922641c5",
   "metadata": {},
   "outputs": [
    {
     "data": {
      "text/plain": [
       "target    0\n",
       "ids       0\n",
       "date      0\n",
       "user      0\n",
       "text      0\n",
       "dtype: int64"
      ]
     },
     "execution_count": 136,
     "metadata": {},
     "output_type": "execute_result"
    }
   ],
   "source": [
    "# Проверим пропуски\n",
    "data.isnull().sum()"
   ]
  },
  {
   "cell_type": "markdown",
   "id": "0eb101c2-fc13-4f93-8f73-ecd4d6c9fa88",
   "metadata": {},
   "source": [
    "Пропусков в данных нет"
   ]
  },
  {
   "cell_type": "code",
   "execution_count": 137,
   "id": "df5b18aa-bbeb-47d5-9982-90788a9946c2",
   "metadata": {},
   "outputs": [
    {
     "data": {
      "image/png": "[encoded data removed]",
      "text/plain": [
       "<Figure size 640x480 with 1 Axes>"
      ]
     },
     "metadata": {},
     "output_type": "display_data"
    }
   ],
   "source": [
    "# Построим распределение длины твитов\n",
    "text_length = data[\"text\"].apply(len)\n",
    "sns.histplot(text_length, bins=30, kde=True)\n",
    "plt.title(\"Tweet Length Distribution\")\n",
    "plt.xlabel(\"Number of Characters\")\n",
    "plt.ylabel(\"Frequency\")\n",
    "plt.show()"
   ]
  },
  {
   "cell_type": "markdown",
   "id": "9ddccc12-024f-4069-b1eb-cf0c04368011",
   "metadata": {},
   "source": [
    "Мы видим, что в данных содержатся тексты длиннее 160 символов, что являлось ограничением платформы в рассматриваемый период."
   ]
  },
  {
   "cell_type": "code",
   "execution_count": 138,
   "id": "b1d58a75-cb53-44fa-8e72-a9ca77836ca2",
   "metadata": {},
   "outputs": [
    {
     "data": {
      "text/plain": [
       "'Took niece &amp; nephew to Blockbuster- rented &quot;Marley&amp;me&quot;, &amp; &quot;Slumdog Millionaire&quot; Niece kiki799 reinjured ankle @ last night b-ball game '"
      ]
     },
     "execution_count": 138,
     "metadata": {},
     "output_type": "execute_result"
    }
   ],
   "source": [
    "# Выведем твит длинее 160 символов\n",
    "data[data[\"text\"].apply(len) > 160]['text'].to_list()[0]"
   ]
  },
  {
   "cell_type": "markdown",
   "id": "d46e8c45-927c-490e-b83c-6ddb20122e85",
   "metadata": {},
   "source": [
    "Данные содержат артефакты и ненужные символы. Их необходимо очистить."
   ]
  },
  {
   "cell_type": "code",
   "execution_count": 139,
   "id": "c8b54df5-ed36-4844-97d9-9a0cf97d7b7c",
   "metadata": {},
   "outputs": [],
   "source": [
    "# Очистим текст\n",
    "def preprocess_text(text):\n",
    "    text = text.lower()\n",
    "    text = re.sub(r\"@\\w+\", \"\", text)  # уберем упоминания других пользователей\n",
    "    text = re.sub(r\"https?://\\S+\", \"\", text)  # уберем ссылки\n",
    "    text = re.sub(r\"&amp;\", \"\", text)  # уберем '&amp;'\n",
    "    text = re.sub(r\"&quot;\", \"\", text)  # уберем '&quot;'\n",
    "    text = re.sub(r\"[^a-zA-Zа-яА-Я0-9 ]\", \"\", text)  # уберем ненужные символы\n",
    "    text = re.sub(r\"\\s+\", \" \", text).strip()  # уберем повторяющиеся пробелы\n",
    "    return text.strip()\n",
    "\n",
    "data.loc[:, 'text'] = data[\"text\"].apply(preprocess_text)"
   ]
  },
  {
   "cell_type": "code",
   "execution_count": 140,
   "id": "83898f96-149e-4c55-bb45-f4b06acf8559",
   "metadata": {},
   "outputs": [],
   "source": [
    "# Удалим строки с пустым текстом\n",
    "data = data[data['text'] != '']"
   ]
  },
  {
   "cell_type": "code",
   "execution_count": 141,
   "id": "cf107291-d1a9-4a4f-a187-d40c2419fe14",
   "metadata": {},
   "outputs": [
    {
     "data": {
      "image/png": "[encoded data removed]",
      "text/plain": [
       "<Figure size 640x480 with 1 Axes>"
      ]
     },
     "metadata": {},
     "output_type": "display_data"
    }
   ],
   "source": [
    "# Заново построим распределение длины твитов\n",
    "text_length = data[\"text\"].apply(len)\n",
    "sns.histplot(text_length, bins=30, kde=True)\n",
    "plt.title(\"Tweet Length Distribution\")\n",
    "plt.xlabel(\"Number of Characters\")\n",
    "plt.ylabel(\"Frequency\")\n",
    "plt.show()"
   ]
  },
  {
   "cell_type": "code",
   "execution_count": 142,
   "id": "f968e4a3-034d-4704-8eb6-daaab1612e2e",
   "metadata": {},
   "outputs": [
    {
     "data": {
      "text/plain": [
       "count    1596421.0\n",
       "mean          62.0\n",
       "std           34.0\n",
       "min            1.0\n",
       "25%           34.0\n",
       "50%           57.0\n",
       "75%           89.0\n",
       "max          141.0\n",
       "Name: text, dtype: float64"
      ]
     },
     "execution_count": 142,
     "metadata": {},
     "output_type": "execute_result"
    }
   ],
   "source": [
    "text_length.describe().round()"
   ]
  },
  {
   "cell_type": "markdown",
   "id": "9778a1a1-f950-48ee-a0f1-c63259d39cd5",
   "metadata": {},
   "source": [
    "Медианная длина твита составляет 57 символов."
   ]
  },
  {
   "cell_type": "code",
   "execution_count": 143,
   "id": "5fd9cb07-46fa-4d1a-a2cd-8b6e2c521d9f",
   "metadata": {},
   "outputs": [
    {
     "name": "stdout",
     "output_type": "stream",
     "text": [
      "Unique Users: 658709\n"
     ]
    }
   ],
   "source": [
    "# Количество уникальных пользовалей \n",
    "print(\"Unique Users:\", data[\"user\"].nunique())"
   ]
  },
  {
   "cell_type": "code",
   "execution_count": 144,
   "id": "644268e0-d505-4d46-aedb-637d0593a6b0",
   "metadata": {},
   "outputs": [
    {
     "name": "stdout",
     "output_type": "stream",
     "text": [
      "user\n",
      "lost_dog           549\n",
      "webwoke            345\n",
      "tweetpet           310\n",
      "SallytheShizzle    281\n",
      "VioletsCRUK        279\n",
      "mcraddictal        273\n",
      "tsarnick           248\n",
      "what_bugs_u        246\n",
      "Karen230683        238\n",
      "DarkPiano          236\n",
      "Name: count, dtype: int64\n"
     ]
    }
   ],
   "source": [
    "# Самые часто встречающиеся авторы\n",
    "print(data[\"user\"].value_counts().head(10))"
   ]
  },
  {
   "cell_type": "code",
   "execution_count": 145,
   "id": "1d7f5858-c54c-4796-821f-04717df46ba5",
   "metadata": {},
   "outputs": [
    {
     "data": {
      "text/plain": [
       "np.int64(0)"
      ]
     },
     "execution_count": 145,
     "metadata": {},
     "output_type": "execute_result"
    }
   ],
   "source": [
    "# Проверим дубликаты\n",
    "data.duplicated().sum()"
   ]
  },
  {
   "cell_type": "code",
   "execution_count": 146,
   "id": "1dbb3cd8-3896-42d6-8b8b-e2d61dc03051",
   "metadata": {},
   "outputs": [
    {
     "data": {
      "text/plain": [
       "np.int64(76631)"
      ]
     },
     "execution_count": 146,
     "metadata": {},
     "output_type": "execute_result"
    }
   ],
   "source": [
    "# Найдем дублирующиеся твиты\n",
    "data.duplicated(subset=[\"text\"]).sum()"
   ]
  },
  {
   "cell_type": "code",
   "execution_count": 147,
   "id": "49a4802d-3332-461d-a997-73d730fac657",
   "metadata": {},
   "outputs": [
    {
     "data": {
      "text/plain": [
       "target\n",
       "1    45092\n",
       "0    31539\n",
       "Name: count, dtype: int64"
      ]
     },
     "execution_count": 147,
     "metadata": {},
     "output_type": "execute_result"
    }
   ],
   "source": [
    "# Распределение целевой переменных у дубликатов\n",
    "data[data.duplicated(subset=[\"text\"])]['target'].value_counts()"
   ]
  },
  {
   "cell_type": "markdown",
   "id": "22359b78-7c78-4ed2-b197-68435795b490",
   "metadata": {},
   "source": [
    "В данных содержатся твиты с одинаковым текстом. Удалим их. Также заметим, что большая часть дубликатов были позитивными."
   ]
  },
  {
   "cell_type": "code",
   "execution_count": 148,
   "id": "f646a27d-2a32-4aac-93ea-3522666062b4",
   "metadata": {},
   "outputs": [],
   "source": [
    "data = data.drop_duplicates(subset=[\"text\"])"
   ]
  },
  {
   "cell_type": "code",
   "execution_count": 149,
   "id": "62956d42-418d-4c09-8495-688feb4e486e",
   "metadata": {},
   "outputs": [
    {
     "data": {
      "image/png": "[encoded data removed]",
      "text/plain": [
       "<Figure size 1200x600 with 1 Axes>"
      ]
     },
     "metadata": {},
     "output_type": "display_data"
    }
   ],
   "source": [
    "# Общее количество твитов во времени\n",
    "ts = data.copy()\n",
    "ts.set_index(\"date\", inplace=True)\n",
    "ts.resample(\"D\").size().cumsum().plot(figsize=(12,6), title=\"Cumulative Tweet Density Over Time\", ylabel=\"Cumulative Number of Tweets\")\n",
    "plt.show()"
   ]
  },
  {
   "cell_type": "code",
   "execution_count": 150,
   "id": "a02c3181-a533-497c-aef5-08570d7d0a7a",
   "metadata": {},
   "outputs": [
    {
     "name": "stdout",
     "output_type": "stream",
     "text": [
      "2009-04-06 22:19:45 — 2009-06-16 08:40:50\n"
     ]
    }
   ],
   "source": [
    "# Наблюдаемый интервал\n",
    "print(str(ts.index[0]) + ' — ' + str(ts.index[-1]))"
   ]
  },
  {
   "cell_type": "markdown",
   "id": "1bc70f9f-1b70-4237-b3ca-722965a627b9",
   "metadata": {},
   "source": [
    "Таким образом твиты собраны за 2 месяца. Значительная часть которых приходится на вторую половину этого периода."
   ]
  },
  {
   "cell_type": "code",
   "execution_count": 151,
   "id": "27afe9d3-55a4-4313-b292-27582dc49d5e",
   "metadata": {},
   "outputs": [
    {
     "data": {
      "text/html": [
       "<div>\n",
       "<style scoped>\n",
       "    .dataframe tbody tr th:only-of-type {\n",
       "        vertical-align: middle;\n",
       "    }\n",
       "\n",
       "    .dataframe tbody tr th {\n",
       "        vertical-align: top;\n",
       "    }\n",
       "\n",
       "    .dataframe thead th {\n",
       "        text-align: right;\n",
       "    }\n",
       "</style>\n",
       "<table border=\"1\" class=\"dataframe\">\n",
       "  <thead>\n",
       "    <tr style=\"text-align: right;\">\n",
       "      <th></th>\n",
       "      <th>target</th>\n",
       "      <th>ids</th>\n",
       "      <th>date</th>\n",
       "      <th>user</th>\n",
       "      <th>text</th>\n",
       "    </tr>\n",
       "  </thead>\n",
       "  <tbody>\n",
       "    <tr>\n",
       "      <th>1457885</th>\n",
       "      <td>1</td>\n",
       "      <td>2063620168</td>\n",
       "      <td>2009-06-07 03:24:15</td>\n",
       "      <td>elaqiu</td>\n",
       "      <td>yay i just downloaded my favorite music videos...</td>\n",
       "    </tr>\n",
       "    <tr>\n",
       "      <th>556719</th>\n",
       "      <td>0</td>\n",
       "      <td>2204350348</td>\n",
       "      <td>2009-06-17 01:59:26</td>\n",
       "      <td>nannigia</td>\n",
       "      <td>feeling sick not go to work today at home alone</td>\n",
       "    </tr>\n",
       "    <tr>\n",
       "      <th>636920</th>\n",
       "      <td>0</td>\n",
       "      <td>2234050586</td>\n",
       "      <td>2009-06-18 22:20:32</td>\n",
       "      <td>Malvika_J</td>\n",
       "      <td>blitzkriegm hello there then what a lovely mor...</td>\n",
       "    </tr>\n",
       "    <tr>\n",
       "      <th>971925</th>\n",
       "      <td>1</td>\n",
       "      <td>1831350138</td>\n",
       "      <td>2009-05-17 18:42:01</td>\n",
       "      <td>AzTodd74</td>\n",
       "      <td>leaving amos and karas wedding it was beautifu...</td>\n",
       "    </tr>\n",
       "    <tr>\n",
       "      <th>235215</th>\n",
       "      <td>0</td>\n",
       "      <td>1979741744</td>\n",
       "      <td>2009-05-31 04:19:10</td>\n",
       "      <td>ClarineV</td>\n",
       "      <td>bbq with step bro jeremycosta and jj theyre go...</td>\n",
       "    </tr>\n",
       "  </tbody>\n",
       "</table>\n",
       "</div>"
      ],
      "text/plain": [
       "         target         ids                date       user  \\\n",
       "1457885       1  2063620168 2009-06-07 03:24:15     elaqiu   \n",
       "556719        0  2204350348 2009-06-17 01:59:26   nannigia   \n",
       "636920        0  2234050586 2009-06-18 22:20:32  Malvika_J   \n",
       "971925        1  1831350138 2009-05-17 18:42:01   AzTodd74   \n",
       "235215        0  1979741744 2009-05-31 04:19:10   ClarineV   \n",
       "\n",
       "                                                      text  \n",
       "1457885  yay i just downloaded my favorite music videos...  \n",
       "556719     feeling sick not go to work today at home alone  \n",
       "636920   blitzkriegm hello there then what a lovely mor...  \n",
       "971925   leaving amos and karas wedding it was beautifu...  \n",
       "235215   bbq with step bro jeremycosta and jj theyre go...  "
      ]
     },
     "execution_count": 151,
     "metadata": {},
     "output_type": "execute_result"
    }
   ],
   "source": [
    "data.sample(5)"
   ]
  },
  {
   "cell_type": "code",
   "execution_count": 152,
   "id": "68c8462a-1359-405d-b20a-6eca0e57cacf",
   "metadata": {},
   "outputs": [],
   "source": [
    "# Сохраним очищенные данные\n",
    "OUTPUT_PATH = os.path.join(DATA_DIR, \"cleaned_data.csv\")\n",
    "\n",
    "data.to_csv(OUTPUT_PATH, index=False)"
   ]
  },
  {
   "cell_type": "markdown",
   "id": "0bf98b3d-ab3a-4d3f-abbe-0df6b7bf8370",
   "metadata": {},
   "source": [
    "## Обработаем данные твитов на русском языке"
   ]
  },
  {
   "cell_type": "code",
   "execution_count": 153,
   "id": "52c5325c-b149-4ad8-8a11-36bd07c074bc",
   "metadata": {},
   "outputs": [
    {
     "data": {
      "text/html": [
       "<div>\n",
       "<style scoped>\n",
       "    .dataframe tbody tr th:only-of-type {\n",
       "        vertical-align: middle;\n",
       "    }\n",
       "\n",
       "    .dataframe tbody tr th {\n",
       "        vertical-align: top;\n",
       "    }\n",
       "\n",
       "    .dataframe thead th {\n",
       "        text-align: right;\n",
       "    }\n",
       "</style>\n",
       "<table border=\"1\" class=\"dataframe\">\n",
       "  <thead>\n",
       "    <tr style=\"text-align: right;\">\n",
       "      <th></th>\n",
       "      <th>text</th>\n",
       "      <th>label</th>\n",
       "    </tr>\n",
       "  </thead>\n",
       "  <tbody>\n",
       "    <tr>\n",
       "      <th>1170</th>\n",
       "      <td>@atiny_KTO_WHO у меня все такие так что 😊😊</td>\n",
       "      <td>neutral</td>\n",
       "    </tr>\n",
       "    <tr>\n",
       "      <th>10492</th>\n",
       "      <td>@Ukronos @veria_feeria Сколько подписка на Янд...</td>\n",
       "      <td>neutral</td>\n",
       "    </tr>\n",
       "    <tr>\n",
       "      <th>9661</th>\n",
       "      <td>Окей перед тем как пойти спать я посмотрела ст...</td>\n",
       "      <td>skip</td>\n",
       "    </tr>\n",
       "    <tr>\n",
       "      <th>4734</th>\n",
       "      <td>@_NaNa_tyan_ @yixing_aiwo Тока скажи есть ли и...</td>\n",
       "      <td>neutral</td>\n",
       "    </tr>\n",
       "    <tr>\n",
       "      <th>2283</th>\n",
       "      <td>\"Балаковская АЭС\" озеленит новый ландшафтный п...</td>\n",
       "      <td>neutral</td>\n",
       "    </tr>\n",
       "    <tr>\n",
       "      <th>4694</th>\n",
       "      <td>В среду забрали Окс с дачи, на этом праздники ...</td>\n",
       "      <td>positive</td>\n",
       "    </tr>\n",
       "    <tr>\n",
       "      <th>756</th>\n",
       "      <td>@stupid_nerd_ Если его проорет викинг думаю не...</td>\n",
       "      <td>neutral</td>\n",
       "    </tr>\n",
       "    <tr>\n",
       "      <th>9999</th>\n",
       "      <td>@yuussssssss теперь это также будет ежедневным...</td>\n",
       "      <td>skip</td>\n",
       "    </tr>\n",
       "    <tr>\n",
       "      <th>11328</th>\n",
       "      <td>То, что сегодня произошло буквально выходит за...</td>\n",
       "      <td>negative</td>\n",
       "    </tr>\n",
       "    <tr>\n",
       "      <th>12003</th>\n",
       "      <td>@ramp_toad @slayersky Скоро начнёт уникальные ...</td>\n",
       "      <td>negative</td>\n",
       "    </tr>\n",
       "  </tbody>\n",
       "</table>\n",
       "</div>"
      ],
      "text/plain": [
       "                                                    text     label\n",
       "1170          @atiny_KTO_WHO у меня все такие так что 😊😊   neutral\n",
       "10492  @Ukronos @veria_feeria Сколько подписка на Янд...   neutral\n",
       "9661   Окей перед тем как пойти спать я посмотрела ст...      skip\n",
       "4734   @_NaNa_tyan_ @yixing_aiwo Тока скажи есть ли и...   neutral\n",
       "2283   \"Балаковская АЭС\" озеленит новый ландшафтный п...   neutral\n",
       "4694   В среду забрали Окс с дачи, на этом праздники ...  positive\n",
       "756    @stupid_nerd_ Если его проорет викинг думаю не...   neutral\n",
       "9999   @yuussssssss теперь это также будет ежедневным...      skip\n",
       "11328  То, что сегодня произошло буквально выходит за...  negative\n",
       "12003  @ramp_toad @slayersky Скоро начнёт уникальные ...  negative"
      ]
     },
     "execution_count": 153,
     "metadata": {},
     "output_type": "execute_result"
    }
   ],
   "source": [
    "data_ru.sample(10)"
   ]
  },
  {
   "cell_type": "code",
   "execution_count": 154,
   "id": "c1f1f322-1688-42c4-bee5-9e7dc3dcc188",
   "metadata": {},
   "outputs": [
    {
     "data": {
      "image/png": "[encoded data removed]",
      "text/plain": [
       "<Figure size 800x500 with 1 Axes>"
      ]
     },
     "metadata": {},
     "output_type": "display_data"
    }
   ],
   "source": [
    "value_counts = data_ru[\"label\"].value_counts().reset_index()\n",
    "value_counts.columns = [\"label\", \"count\"]\n",
    "\n",
    "plt.figure(figsize=(8, 5))\n",
    "sns.barplot(data=value_counts, x=\"label\", y=\"count\", hue=\"count\", palette=\"viridis\", legend=False)\n",
    "plt.xlabel(\"\")\n",
    "plt.ylabel(\"Количество\")\n",
    "plt.title(\"Распределение таргетов\")\n",
    "plt.show()"
   ]
  },
  {
   "cell_type": "code",
   "execution_count": 155,
   "id": "dcc96e2a-9e30-40e3-adb2-77261b89d14e",
   "metadata": {},
   "outputs": [],
   "source": [
    "# Очистим текст\n",
    "data_ru.loc[:, 'text'] = data_ru[\"text\"].apply(preprocess_text)"
   ]
  },
  {
   "cell_type": "markdown",
   "id": "e012709e-eef7-4944-927e-c23a2a222c74",
   "metadata": {},
   "source": [
    "Так как в наборе данных твитов на английском есть твиты только двух классов, то для баланса придется убрать все остальные"
   ]
  },
  {
   "cell_type": "code",
   "execution_count": 156,
   "id": "a07f2289-b674-4610-a54f-99b31725ba53",
   "metadata": {},
   "outputs": [
    {
     "name": "stderr",
     "output_type": "stream",
     "text": [
      "/var/folders/jg/38zlc6616vl3gdy84xc0lx4w0000gn/T/ipykernel_79489/3785068141.py:2: FutureWarning: Downcasting behavior in `replace` is deprecated and will be removed in a future version. To retain the old behavior, explicitly call `result.infer_objects(copy=False)`. To opt-in to the future behavior, set `pd.set_option('future.no_silent_downcasting', True)`\n",
      "  data_ru.loc[:, \"label\"] = data_ru[\"label\"].replace({\"negative\": 0, \"positive\": 1})\n"
     ]
    }
   ],
   "source": [
    "data_ru = data_ru[data_ru[\"label\"].isin([\"negative\", \"positive\"])].copy()\n",
    "data_ru.loc[:, \"label\"] = data_ru[\"label\"].replace({\"negative\": 0, \"positive\": 1})"
   ]
  },
  {
   "cell_type": "code",
   "execution_count": 157,
   "id": "058312a3-0b30-4c16-b0fc-80b74289de8d",
   "metadata": {},
   "outputs": [],
   "source": [
    "data_ru.rename(columns={\"label\": \"target\"}, inplace=True)"
   ]
  },
  {
   "cell_type": "code",
   "execution_count": 158,
   "id": "57cf2ade-7ba8-480b-a0a8-ce02ebb8143d",
   "metadata": {},
   "outputs": [],
   "source": [
    "data_ru[\"target\"] = data_ru[\"target\"].astype(int)"
   ]
  },
  {
   "cell_type": "code",
   "execution_count": 159,
   "id": "7285a31e-e2ce-498d-a218-ed3a0155a9a9",
   "metadata": {},
   "outputs": [
    {
     "data": {
      "text/html": [
       "<div>\n",
       "<style scoped>\n",
       "    .dataframe tbody tr th:only-of-type {\n",
       "        vertical-align: middle;\n",
       "    }\n",
       "\n",
       "    .dataframe tbody tr th {\n",
       "        vertical-align: top;\n",
       "    }\n",
       "\n",
       "    .dataframe thead th {\n",
       "        text-align: right;\n",
       "    }\n",
       "</style>\n",
       "<table border=\"1\" class=\"dataframe\">\n",
       "  <thead>\n",
       "    <tr style=\"text-align: right;\">\n",
       "      <th></th>\n",
       "      <th>text</th>\n",
       "      <th>target</th>\n",
       "    </tr>\n",
       "  </thead>\n",
       "  <tbody>\n",
       "    <tr>\n",
       "      <th>4103</th>\n",
       "      <td>мне так противно быть с теми кто может тебя за...</td>\n",
       "      <td>0</td>\n",
       "    </tr>\n",
       "    <tr>\n",
       "      <th>10908</th>\n",
       "      <td>раз в год выползая к людям я вспоминаю почему ...</td>\n",
       "      <td>0</td>\n",
       "    </tr>\n",
       "    <tr>\n",
       "      <th>8319</th>\n",
       "      <td>я тупая игнорируй</td>\n",
       "      <td>0</td>\n",
       "    </tr>\n",
       "    <tr>\n",
       "      <th>8550</th>\n",
       "      <td>какойто маньяк постоянно пишет мне сообщения и...</td>\n",
       "      <td>0</td>\n",
       "    </tr>\n",
       "    <tr>\n",
       "      <th>3260</th>\n",
       "      <td>длина вс ещ пугающая цвет вс ещ прекрасный</td>\n",
       "      <td>1</td>\n",
       "    </tr>\n",
       "    <tr>\n",
       "      <th>11524</th>\n",
       "      <td>что ты тут забыла тебе здесь не рады уйди забл...</td>\n",
       "      <td>0</td>\n",
       "    </tr>\n",
       "    <tr>\n",
       "      <th>10466</th>\n",
       "      <td>ты просто медленно заходишь и игра уже начинается</td>\n",
       "      <td>0</td>\n",
       "    </tr>\n",
       "    <tr>\n",
       "      <th>7259</th>\n",
       "      <td>комуто прт но явно не мне пх</td>\n",
       "      <td>0</td>\n",
       "    </tr>\n",
       "    <tr>\n",
       "      <th>12079</th>\n",
       "      <td>полиция вышла на протесты нас не уважают через</td>\n",
       "      <td>0</td>\n",
       "    </tr>\n",
       "    <tr>\n",
       "      <th>3707</th>\n",
       "      <td>мой крааааш</td>\n",
       "      <td>1</td>\n",
       "    </tr>\n",
       "  </tbody>\n",
       "</table>\n",
       "</div>"
      ],
      "text/plain": [
       "                                                    text  target\n",
       "4103   мне так противно быть с теми кто может тебя за...       0\n",
       "10908  раз в год выползая к людям я вспоминаю почему ...       0\n",
       "8319                                   я тупая игнорируй       0\n",
       "8550   какойто маньяк постоянно пишет мне сообщения и...       0\n",
       "3260          длина вс ещ пугающая цвет вс ещ прекрасный       1\n",
       "11524  что ты тут забыла тебе здесь не рады уйди забл...       0\n",
       "10466  ты просто медленно заходишь и игра уже начинается       0\n",
       "7259                        комуто прт но явно не мне пх       0\n",
       "12079     полиция вышла на протесты нас не уважают через       0\n",
       "3707                                         мой крааааш       1"
      ]
     },
     "execution_count": 159,
     "metadata": {},
     "output_type": "execute_result"
    }
   ],
   "source": [
    "data_ru.sample(10)"
   ]
  },
  {
   "cell_type": "code",
   "execution_count": 160,
   "id": "a80b1854-e38a-49f8-8e44-a4636b5155f9",
   "metadata": {},
   "outputs": [],
   "source": [
    "# Сохраним очищенные данные\n",
    "OUTPUT_PATH = os.path.join(DATA_DIR, \"cleaned_data_ru.csv\")\n",
    "\n",
    "data_ru.to_csv(OUTPUT_PATH, index=False)"
   ]
  },
  {
   "cell_type": "markdown",
   "id": "db59d19e-bf20-4fd5-afbc-a73494b6839f",
   "metadata": {},
   "source": [
    "# Резюме\n",
    "\n",
    "Мы загрузили данные и провели их предварительный анализ. Для этого были выполнены следующие шаги:\n",
    "\n",
    "1. Загрузили и структурировали набор данных Sentiment140.\n",
    "2. Преобразовали соответствующие столбцы в правильные типы данных.\n",
    "3. Удалили дубликаты твитов, чтобы обеспечить уникальные текстовые записи.\n",
    "4. Проанализировали распределение целевых настроений.\n",
    "5. Очистили текст твитов, удалив артефакты, специальные символы и лишние пробелы.\n",
    "6. Исследовали распределение длины твитов.\n",
    "7. Выявили активных пользователей.\n",
    "9. Визуализировали количество твитов во времени с помощью графика кумулятивной плотности."
   ]
  }
 ],
 "metadata": {
  "kernelspec": {
   "display_name": "Python 3 (ipykernel)",
   "language": "python",
   "name": "python3"
  },
  "language_info": {
   "codemirror_mode": {
    "name": "ipython",
    "version": 3
   },
   "file_extension": ".py",
   "mimetype": "text/x-python",
   "name": "python",
   "nbconvert_exporter": "python",
   "pygments_lexer": "ipython3",
   "version": "3.10.13"
  }
 },
 "nbformat": 4,
 "nbformat_minor": 5
}
